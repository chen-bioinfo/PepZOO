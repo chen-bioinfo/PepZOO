{
 "cells": [
  {
   "cell_type": "markdown",
   "metadata": {},
   "source": [
    "# import dependency"
   ]
  },
  {
   "cell_type": "code",
   "execution_count": 10,
   "metadata": {},
   "outputs": [],
   "source": [
    "import pandas as pd\n",
    "import csv\n",
    "import numpy as np\n",
    "from amp.utils import basic_model_serializer\n",
    "import amp.data_utils.sequence as du_sequence\n",
    "import os\n",
    "os.environ['CUDA_VISIBLE_DEVICES'] = \"\""
   ]
  },
  {
   "cell_type": "markdown",
   "metadata": {},
   "source": [
    "# load predictor"
   ]
  },
  {
   "cell_type": "code",
   "execution_count": 11,
   "metadata": {},
   "outputs": [],
   "source": [
    "bms = basic_model_serializer.BasicModelSerializer()\n",
    "amp_classifier = bms.load_model('models/amp_classifier')\n",
    "amp_classifier_model = amp_classifier()\n",
    "mic_classifier = bms.load_model('models/mic_classifier/')\n",
    "mic_classifier_model = mic_classifier() "
   ]
  },
  {
   "cell_type": "markdown",
   "metadata": {},
   "source": [
    "# load data"
   ]
  },
  {
   "cell_type": "code",
   "execution_count": 12,
   "metadata": {},
   "outputs": [],
   "source": [
    "data = pd.read_csv('data/amps.csv')\n",
    "seq_list = np.array(data.sequence.tolist()).squeeze().tolist()\n",
    "pad_seq = du_sequence.pad(du_sequence.to_one_hot(seq_list))"
   ]
  },
  {
   "cell_type": "markdown",
   "metadata": {},
   "source": [
    "# predict"
   ]
  },
  {
   "cell_type": "code",
   "execution_count": 13,
   "metadata": {},
   "outputs": [],
   "source": [
    "pred_amp = amp_classifier_model.predict(pad_seq)\n",
    "pred_mic = mic_classifier_model.predict(pad_seq)"
   ]
  }
 ],
 "metadata": {
  "kernelspec": {
   "display_name": "Python 3.8.0 ('hydramp')",
   "language": "python",
   "name": "python3"
  },
  "language_info": {
   "codemirror_mode": {
    "name": "ipython",
    "version": 3
   },
   "file_extension": ".py",
   "mimetype": "text/x-python",
   "name": "python",
   "nbconvert_exporter": "python",
   "pygments_lexer": "ipython3",
   "version": "3.8.0"
  },
  "orig_nbformat": 4,
  "vscode": {
   "interpreter": {
    "hash": "78ab29468e18f64eb9e96ed2e1dab4bddb88cf91b798c80e4abb022d4f2a601c"
   }
  }
 },
 "nbformat": 4,
 "nbformat_minor": 2
}
