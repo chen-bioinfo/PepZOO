{
 "cells": [
  {
   "cell_type": "code",
   "execution_count": 20,
   "metadata": {},
   "outputs": [
    {
     "name": "stdout",
     "output_type": "stream",
     "text": [
      "<class 'list'>\n",
      "2728\n",
      "['original\\n', 'ID\\tPeptide\\t\\t\\tToxicity\\n']\n",
      "['0\\tGLFGVLAKVAAHVVPAIAEHF\\t\\t0.0\\n', '1\\tGLLSVLGSVAKHVLPHVVPVIAEHL\\t\\t0.5\\n', '2\\tGLWQKIKSAAGDLASGIVEGIKS\\t\\t0.0\\n', '3\\tSLSRFLSFLKIVYPPAF\\t\\t0.5\\n', '4\\tGFKDLLKGAAKALVKTVLF\\t\\t0.5\\n', '5\\tCLGVGSCNDFAGCGYAVVCFW\\t\\t0.17\\n', '6\\tVGALAVVVWLFLWLW\\t\\t0.0\\n', '7\\tEQCREEEDDR\\t\\t0.67\\n', '8\\tKIMAKPSKFYEQLRGR\\t\\t0.31\\n', '9\\tVKSTGRADDDLAVKTKYLPP\\t\\t0.0\\n', '10\\tGLKDIFKAGLGSLVKNIAAHVAN\\t\\t0.0\\n', '11\\tGLFKVLGSVAKHLLPHVVPVIAEKL\\t\\t0.175\\n', '12\\tGWMSKIASGIGTFLSGVQQG\\t\\t0.0\\n', '13\\tFIHHIFRGIVHAGRSIGRFLTG\\t\\t0.59\\n', '14\\tLLKELWTKIKGAGKAVLGKIKGLL\\t\\t0.16\\n', '15\\tGVSGHGQHGVHG\\t\\t0.905\\n', '16\\tEKYTEAPEYI\\t\\t0.32\\n', '17\\tIFKAIWSGIKSLF\\t\\t0.5\\n', '18\\tGLLSGILNTAGGLLGNLIGSLSN\\t\\t0.0\\n', '19\\tNRILPTLIGPL\\t\\t0.045\\n', '20\\tGIADILKGLL\\t\\t0.0\\n', '21\\tLLGGLLQSLL\\t\\t0.0\\n', '22\\tGVVDTLKNLLMGLL\\t\\t0.0\\n', '23\\tFLHFLHHLF\\t\\t0.365\\n', '24\\tRGAHIKGRWKSRCHRF\\t\\t0.68\\n']\n"
     ]
    }
   ],
   "source": [
    "with open('result_toxic.txt', 'r') as rf:\n",
    "    data = rf.readlines()\n",
    "print(type(data))\n",
    "print(len(data))\n",
    "print(data[:2])\n",
    "print(data[2:27])\n",
    "j = 0\n",
    "wf = open('result_toxic.fasta', 'w')\n",
    "while j < 25:\n",
    "    i = 28\n",
    "    k = 1\n",
    "    while i <= (2728 - 27):\n",
    "        wf.write(str(k)+'\\t')\n",
    "        k = k+1\n",
    "        row = data[i+2+j:i+3+j][0].split('\\t')\n",
    "        wf.write(row[1]+'\\t')\n",
    "        wf.write(row[3].split('\\n')[0]+'\\n')\n",
    "        i = i + 27\n",
    "    j = j + 1\n",
    "wf.close()"
   ]
  }
 ],
 "metadata": {
  "kernelspec": {
   "display_name": "Python 3.8.0 ('hydramp')",
   "language": "python",
   "name": "python3"
  },
  "language_info": {
   "codemirror_mode": {
    "name": "ipython",
    "version": 3
   },
   "file_extension": ".py",
   "mimetype": "text/x-python",
   "name": "python",
   "nbconvert_exporter": "python",
   "pygments_lexer": "ipython3",
   "version": "3.8.0"
  },
  "orig_nbformat": 4,
  "vscode": {
   "interpreter": {
    "hash": "78ab29468e18f64eb9e96ed2e1dab4bddb88cf91b798c80e4abb022d4f2a601c"
   }
  }
 },
 "nbformat": 4,
 "nbformat_minor": 2
}
