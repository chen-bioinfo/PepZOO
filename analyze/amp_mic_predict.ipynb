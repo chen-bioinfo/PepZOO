{
 "cells": [
  {
   "cell_type": "markdown",
   "metadata": {},
   "source": [
    "# 导入依赖包"
   ]
  },
  {
   "cell_type": "code",
   "execution_count": 10,
   "metadata": {},
   "outputs": [],
   "source": [
    "import pandas as pd\n",
    "import csv\n",
    "import numpy as np\n",
    "from amp.utils import basic_model_serializer\n",
    "import amp.data_utils.sequence as du_sequence\n",
    "import os\n",
    "os.environ['CUDA_VISIBLE_DEVICES'] = \"\""
   ]
  },
  {
   "cell_type": "markdown",
   "metadata": {},
   "source": [
    "# 加载模型"
   ]
  },
  {
   "cell_type": "code",
   "execution_count": 11,
   "metadata": {},
   "outputs": [],
   "source": [
    "bms = basic_model_serializer.BasicModelSerializer()\n",
    "amp_classifier = bms.load_model('models/amp_classifier')\n",
    "amp_classifier_model = amp_classifier()\n",
    "mic_classifier = bms.load_model('models/mic_classifier/')\n",
    "mic_classifier_model = mic_classifier() "
   ]
  },
  {
   "cell_type": "markdown",
   "metadata": {},
   "source": [
    "# 加载数据"
   ]
  },
  {
   "cell_type": "code",
   "execution_count": 12,
   "metadata": {},
   "outputs": [],
   "source": [
    "# 准备自己的数据\n",
    "data = pd.read_csv('data/amps/amp_test.csv')\n",
    "seq_list = np.array(data.sequence.tolist()).squeeze().tolist()\n",
    "pad_seq = du_sequence.pad(du_sequence.to_one_hot(seq_list))"
   ]
  },
  {
   "cell_type": "markdown",
   "metadata": {},
   "source": [
    "# 预测"
   ]
  },
  {
   "cell_type": "code",
   "execution_count": 13,
   "metadata": {},
   "outputs": [],
   "source": [
    "pred_amp = amp_classifier_model.predict(pad_seq)\n",
    "pred_mic = mic_classifier_model.predict(pad_seq)"
   ]
  },
  {
   "cell_type": "code",
   "execution_count": 4,
   "metadata": {},
   "outputs": [],
   "source": [
    "# import pandas as pd\n",
    "# # 结果排序\n",
    "# txt = pd.read_csv(f'../results/amp/PepZOO/result.csv')\n",
    "# # txt2 = txt.sort_values(by=['amp','mic','hydrophobicity', 'hydrophobic_moment', 'charge', 'isoelectric_point'], ascending=True)\n",
    "# txt2 = txt.sort_values(by=['amp'], ascending=True)\n",
    "# txt2.to_csv(f'../results/amp/PepZOO/amp_case1.csv', index=False, encoding='utf-8')\n",
    "# 清空文件\n",
    "f = open(f'../results/amp/PepZOO/result.csv', 'w')\n",
    "f.close()"
   ]
  }
 ],
 "metadata": {
  "kernelspec": {
   "display_name": "Python 3.8.0 ('hydramp')",
   "language": "python",
   "name": "python3"
  },
  "language_info": {
   "codemirror_mode": {
    "name": "ipython",
    "version": 3
   },
   "file_extension": ".py",
   "mimetype": "text/x-python",
   "name": "python",
   "nbconvert_exporter": "python",
   "pygments_lexer": "ipython3",
   "version": "3.8.0"
  },
  "orig_nbformat": 4,
  "vscode": {
   "interpreter": {
    "hash": "78ab29468e18f64eb9e96ed2e1dab4bddb88cf91b798c80e4abb022d4f2a601c"
   }
  }
 },
 "nbformat": 4,
 "nbformat_minor": 2
}
